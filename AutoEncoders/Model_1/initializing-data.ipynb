{
 "cells": [
  {
   "cell_type": "code",
   "execution_count": 1,
   "id": "edaa57fa",
   "metadata": {},
   "outputs": [],
   "source": [
    "import numpy as np\n",
    "import pandas as pd\n",
    "from matplotlib import pyplot as pl\n",
    "%matplotlib inline"
   ]
  },
  {
   "cell_type": "code",
   "execution_count": 2,
   "id": "e454e953",
   "metadata": {},
   "outputs": [
    {
     "name": "stdout",
     "output_type": "stream",
     "text": [
      "Sun Aug  6 20:00:31 2023       \n",
      "+-----------------------------------------------------------------------------+\n",
      "| NVIDIA-SMI 515.48.07    Driver Version: 515.48.07    CUDA Version: 11.7     |\n",
      "|-------------------------------+----------------------+----------------------+\n",
      "| GPU  Name        Persistence-M| Bus-Id        Disp.A | Volatile Uncorr. ECC |\n",
      "| Fan  Temp  Perf  Pwr:Usage/Cap|         Memory-Usage | GPU-Util  Compute M. |\n",
      "|                               |                      |               MIG M. |\n",
      "|===============================+======================+======================|\n",
      "|   0  NVIDIA RTX A5000    Off  | 00000000:73:00.0 Off |                  Off |\n",
      "| 30%   26C    P8    16W / 230W |  23186MiB / 24564MiB |      0%      Default |\n",
      "|                               |                      |                  N/A |\n",
      "+-------------------------------+----------------------+----------------------+\n",
      "                                                                               \n",
      "+-----------------------------------------------------------------------------+\n",
      "| Processes:                                                                  |\n",
      "|  GPU   GI   CI        PID   Type   Process name                  GPU Memory |\n",
      "|        ID   ID                                                   Usage      |\n",
      "|=============================================================================|\n",
      "|    0   N/A  N/A      2242      G   /usr/lib/xorg/Xorg                 64MiB |\n",
      "|    0   N/A  N/A      2586      G   /usr/bin/gnome-shell                6MiB |\n",
      "|    0   N/A  N/A     84567      C   .../envs/pryngles/bin/python    23111MiB |\n",
      "+-----------------------------------------------------------------------------+\n"
     ]
    }
   ],
   "source": [
    "gpu_info = !nvidia-smi\n",
    "gpu_info = '\\n'.join(gpu_info)\n",
    "if gpu_info.find('failed') >= 0:\n",
    "  print('Select the Runtime > \"Change runtime type\" menu to enable a GPU accelerator, ')\n",
    "  print('and then re-execute this cell.')\n",
    "else:\n",
    "  print(gpu_info)"
   ]
  },
  {
   "cell_type": "code",
   "execution_count": 3,
   "id": "6420e66f",
   "metadata": {},
   "outputs": [
    {
     "name": "stderr",
     "output_type": "stream",
     "text": [
      "/tmp/ipykernel_85024/3867185465.py:3: DeprecationWarning: loadtxt(): Parsing an integer via a float is deprecated.  To avoid this warning, you can:\n",
      "    * make sure the original data is stored as integers.\n",
      "    * use the `converters=` keyword argument.  If you only use\n",
      "      NumPy 1.23 or later, `converters=float` will normally work.\n",
      "    * Use `np.loadtxt(...).astype(np.int64)` parsing the file as\n",
      "      floating point and then convert it.  (On all NumPy versions.)\n",
      "  (Deprecated NumPy 1.23)\n",
      "  non_ringed_masks = np.loadtxt('../../Datasets/non-ringed-transit-masks.txt', int).astype(bool)\n",
      "/tmp/ipykernel_85024/3867185465.py:9: DeprecationWarning: loadtxt(): Parsing an integer via a float is deprecated.  To avoid this warning, you can:\n",
      "    * make sure the original data is stored as integers.\n",
      "    * use the `converters=` keyword argument.  If you only use\n",
      "      NumPy 1.23 or later, `converters=float` will normally work.\n",
      "    * Use `np.loadtxt(...).astype(np.int64)` parsing the file as\n",
      "      floating point and then convert it.  (On all NumPy versions.)\n",
      "  (Deprecated NumPy 1.23)\n",
      "  ringed_masks = np.loadtxt('../../Datasets/ringed-transit-masks.txt', int).astype(bool)\n"
     ]
    }
   ],
   "source": [
    "non_ringed_curves = np.loadtxt('../../Datasets/non-ringed-cropped-curves.txt')\n",
    "non_ringed_ids = np.loadtxt('../../Datasets/non-ringed-ids.txt', str)\n",
    "non_ringed_masks = np.loadtxt('../../Datasets/non-ringed-transit-masks.txt', int).astype(bool)\n",
    "non_ringed_curves_with_transits = non_ringed_curves[non_ringed_masks]\n",
    "non_ringed_ids_with_transits = non_ringed_ids[non_ringed_masks]\n",
    "\n",
    "ringed_curves = np.loadtxt('../../Datasets/ringed-cropped-curves.txt')\n",
    "ringed_ids = np.loadtxt('../../Datasets/ringed-ids.txt', str)\n",
    "ringed_masks = np.loadtxt('../../Datasets/ringed-transit-masks.txt', int).astype(bool)\n",
    "ringed_curves_with_transits = ringed_curves[ringed_masks]\n",
    "ringed_ids_with_transits = ringed_ids[ringed_masks]"
   ]
  },
  {
   "cell_type": "code",
   "execution_count": 4,
   "id": "78e28c8a",
   "metadata": {},
   "outputs": [],
   "source": [
    "non_ringed_medians = np.median(non_ringed_curves_with_transits, axis = 1)\n",
    "non_ringed_stds = np.std(non_ringed_curves_with_transits, axis = 1)\n",
    "\n",
    "ringed_medians = np.median(ringed_curves_with_transits, axis = 1)\n",
    "ringed_stds = np.std(ringed_curves_with_transits, axis = 1)"
   ]
  },
  {
   "cell_type": "code",
   "execution_count": 5,
   "id": "6c1716e0",
   "metadata": {},
   "outputs": [
    {
     "name": "stderr",
     "output_type": "stream",
     "text": [
      "/tmp/ipykernel_85024/909337643.py:2: RuntimeWarning: invalid value encountered in divide\n",
      "  non_ringed_curves_with_transits[i]=(non_ringed_curves_with_transits[i]-non_ringed_medians [i])/non_ringed_stds[i]\n"
     ]
    }
   ],
   "source": [
    "for i in range(non_ringed_curves_with_transits.shape[0]):\n",
    "    non_ringed_curves_with_transits[i]=(non_ringed_curves_with_transits[i]-non_ringed_medians [i])/non_ringed_stds[i]\n",
    "    \n",
    "for i in range(ringed_curves_with_transits.shape[0]):\n",
    "    ringed_curves_with_transits[i]=(ringed_curves_with_transits[i]-ringed_medians [i])/ringed_stds[i]"
   ]
  },
  {
   "cell_type": "code",
   "execution_count": 6,
   "id": "0d2ae577",
   "metadata": {},
   "outputs": [],
   "source": [
    "non_ringed_indices = [i for i in range(non_ringed_curves_with_transits.shape[0])]\n",
    "ringed_indices = [i for i in range(ringed_curves_with_transits.shape[0])]\n",
    "\n",
    "np.random.shuffle(non_ringed_indices)\n",
    "np.random.shuffle(ringed_indices)\n"
   ]
  },
  {
   "cell_type": "code",
   "execution_count": 7,
   "id": "c268be9c",
   "metadata": {},
   "outputs": [],
   "source": [
    "non_ringed_curves_with_transits = non_ringed_curves_with_transits[non_ringed_indices]\n",
    "non_ringed_ids_with_transits = non_ringed_ids_with_transits[non_ringed_indices]\n",
    "non_ringed_medians = non_ringed_medians[non_ringed_indices]\n",
    "non_ringed_stds = non_ringed_stds[non_ringed_indices]\n",
    "\n",
    "ringed_curves_with_transits = ringed_curves_with_transits[ringed_indices]\n",
    "ringed_ids_with_transits = ringed_ids_with_transits[ringed_indices]\n",
    "ringed_medians = ringed_medians[ringed_indices]\n",
    "ringed_stds = ringed_stds[ringed_indices]"
   ]
  },
  {
   "cell_type": "code",
   "execution_count": 9,
   "id": "3aff0445",
   "metadata": {},
   "outputs": [],
   "source": [
    "np.savetxt('non-ringed-shuffled-curves.txt', non_ringed_curves_with_transits, fmt=\"%f\")\n",
    "np.savetxt('non-ringed-shuffled-ids.txt', non_ringed_ids_with_transits, fmt=\"%s\")\n",
    "np.savetxt('non-ringed-shuffled-medians.txt', non_ringed_medians, fmt=\"%f\")\n",
    "np.savetxt('non-ringed-shuffled-stds.txt', non_ringed_stds, fmt=\"%f\")\n",
    "np.savetxt('non-ringed-shuffled-indices.txt', non_ringed_indices, fmt='%d')\n",
    "\n",
    "np.savetxt('ringed-shuffled-normalized-curves.txt', ringed_curves_with_transits, fmt=\"%f\")\n",
    "np.savetxt('ringed-shuffled-ids.txt', ringed_ids_with_transits, fmt=\"%s\")\n",
    "np.savetxt('ringed-shuffled-medians.txt', ringed_medians, fmt=\"%f\")\n",
    "np.savetxt('ringed-shuffled-stds.txt', ringed_stds, fmt=\"%f\")\n",
    "np.savetxt('ringed-shuffled-indices.txt', ringed_indices, fmt='%d')\n",
    "\n"
   ]
  },
  {
   "cell_type": "code",
   "execution_count": null,
   "id": "b94788a8",
   "metadata": {},
   "outputs": [],
   "source": []
  }
 ],
 "metadata": {
  "kernelspec": {
   "display_name": "Python 3 (ipykernel)",
   "language": "python",
   "name": "python3"
  },
  "language_info": {
   "codemirror_mode": {
    "name": "ipython",
    "version": 3
   },
   "file_extension": ".py",
   "mimetype": "text/x-python",
   "name": "python",
   "nbconvert_exporter": "python",
   "pygments_lexer": "ipython3",
   "version": "3.9.16"
  }
 },
 "nbformat": 4,
 "nbformat_minor": 5
}

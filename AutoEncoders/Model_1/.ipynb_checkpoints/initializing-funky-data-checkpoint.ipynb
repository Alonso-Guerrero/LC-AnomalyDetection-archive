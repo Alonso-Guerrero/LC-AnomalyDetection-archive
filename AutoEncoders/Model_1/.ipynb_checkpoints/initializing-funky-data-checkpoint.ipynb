{
 "cells": [
  {
   "cell_type": "code",
   "execution_count": 1,
   "id": "b570a741",
   "metadata": {},
   "outputs": [],
   "source": [
    "import numpy as np\n",
    "import pandas as pd\n",
    "from matplotlib import pyplot as pl\n",
    "%matplotlib inline"
   ]
  },
  {
   "cell_type": "code",
   "execution_count": 2,
   "id": "71f4c49f",
   "metadata": {},
   "outputs": [],
   "source": [
    "def initialize_data(letra):\n",
    "    ringed_curves = np.loadtxt('../../Datasets/Funky-rings/'+letra+'-ringed-cropped-curves.txt')\n",
    "    ringed_ids = np.loadtxt('../../Datasets/Funky-rings/'+letra+'-ringed-ids.txt', str)\n",
    "    ringed_masks = np.loadtxt('../../Datasets/Funky-rings/'+letra+'-ringed-transit-masks.txt', int).astype(bool)\n",
    "    ringed_curves_with_transits = ringed_curves[ringed_masks]\n",
    "    ringed_ids_with_transits = ringed_ids[ringed_masks]\n",
    "    \n",
    "    ringed_medians = np.median(ringed_curves_with_transits, axis = 1)\n",
    "    ringed_stds = np.std(ringed_curves_with_transits, axis = 1)\n",
    "    \n",
    "    for i in range(ringed_curves_with_transits.shape[0]):\n",
    "        ringed_curves_with_transits[i]=(ringed_curves_with_transits[i]-ringed_medians [i])/ringed_stds[i]\n",
    "        \n",
    "    ringed_indices = [i for i in range(ringed_curves_with_transits.shape[0])]\n",
    "    np.random.shuffle(ringed_indices)\n",
    "    \n",
    "    ringed_curves_with_transits = ringed_curves_with_transits[ringed_indices]\n",
    "    ringed_ids_with_transits = ringed_ids_with_transits[ringed_indices]\n",
    "    ringed_medians = ringed_medians[ringed_indices]\n",
    "    ringed_stds = ringed_stds[ringed_indices]\n",
    "    \n",
    "    np.savetxt('Funky-initialized-data/'+letra+'-ringed-shuffled-normalized-curves.txt', ringed_curves_with_transits, fmt=\"%f\")\n",
    "    np.savetxt('Funky-initialized-data/'+letra+'-ringed-shuffled-ids.txt', ringed_ids_with_transits, fmt=\"%s\")\n",
    "    np.savetxt('Funky-initialized-data/'+letra+'-ringed-shuffled-medians.txt', ringed_medians, fmt=\"%f\")\n",
    "    np.savetxt('Funky-initialized-data/'+letra+'-ringed-shuffled-stds.txt', ringed_stds, fmt=\"%f\")\n",
    "    np.savetxt('Funky-initialized-data/'+letra+'-ringed-shuffled-indices.txt', ringed_indices, fmt='%d')"
   ]
  },
  {
   "cell_type": "code",
   "execution_count": 3,
   "id": "727056fb",
   "metadata": {},
   "outputs": [
    {
     "name": "stderr",
     "output_type": "stream",
     "text": [
      "/tmp/ipykernel_125080/3412156628.py:4: DeprecationWarning: loadtxt(): Parsing an integer via a float is deprecated.  To avoid this warning, you can:\n",
      "    * make sure the original data is stored as integers.\n",
      "    * use the `converters=` keyword argument.  If you only use\n",
      "      NumPy 1.23 or later, `converters=float` will normally work.\n",
      "    * Use `np.loadtxt(...).astype(np.int64)` parsing the file as\n",
      "      floating point and then convert it.  (On all NumPy versions.)\n",
      "  (Deprecated NumPy 1.23)\n",
      "  ringed_masks = np.loadtxt('../../Datasets/Funky-rings/'+letra+'-ringed-transit-masks.txt', int).astype(bool)\n",
      "/tmp/ipykernel_125080/3412156628.py:12: RuntimeWarning: invalid value encountered in divide\n",
      "  ringed_curves_with_transits[i]=(ringed_curves_with_transits[i]-ringed_medians [i])/ringed_stds[i]\n"
     ]
    }
   ],
   "source": [
    "initialize_data('A')"
   ]
  },
  {
   "cell_type": "code",
   "execution_count": 4,
   "id": "8a3fb5b7",
   "metadata": {},
   "outputs": [
    {
     "name": "stderr",
     "output_type": "stream",
     "text": [
      "/tmp/ipykernel_125080/3412156628.py:4: DeprecationWarning: loadtxt(): Parsing an integer via a float is deprecated.  To avoid this warning, you can:\n",
      "    * make sure the original data is stored as integers.\n",
      "    * use the `converters=` keyword argument.  If you only use\n",
      "      NumPy 1.23 or later, `converters=float` will normally work.\n",
      "    * Use `np.loadtxt(...).astype(np.int64)` parsing the file as\n",
      "      floating point and then convert it.  (On all NumPy versions.)\n",
      "  (Deprecated NumPy 1.23)\n",
      "  ringed_masks = np.loadtxt('../../Datasets/Funky-rings/'+letra+'-ringed-transit-masks.txt', int).astype(bool)\n",
      "/tmp/ipykernel_125080/3412156628.py:12: RuntimeWarning: invalid value encountered in divide\n",
      "  ringed_curves_with_transits[i]=(ringed_curves_with_transits[i]-ringed_medians [i])/ringed_stds[i]\n"
     ]
    }
   ],
   "source": [
    "initialize_data('B')"
   ]
  },
  {
   "cell_type": "code",
   "execution_count": 5,
   "id": "75d10c13",
   "metadata": {},
   "outputs": [
    {
     "name": "stderr",
     "output_type": "stream",
     "text": [
      "/tmp/ipykernel_125080/3412156628.py:4: DeprecationWarning: loadtxt(): Parsing an integer via a float is deprecated.  To avoid this warning, you can:\n",
      "    * make sure the original data is stored as integers.\n",
      "    * use the `converters=` keyword argument.  If you only use\n",
      "      NumPy 1.23 or later, `converters=float` will normally work.\n",
      "    * Use `np.loadtxt(...).astype(np.int64)` parsing the file as\n",
      "      floating point and then convert it.  (On all NumPy versions.)\n",
      "  (Deprecated NumPy 1.23)\n",
      "  ringed_masks = np.loadtxt('../../Datasets/Funky-rings/'+letra+'-ringed-transit-masks.txt', int).astype(bool)\n",
      "/tmp/ipykernel_125080/3412156628.py:12: RuntimeWarning: invalid value encountered in divide\n",
      "  ringed_curves_with_transits[i]=(ringed_curves_with_transits[i]-ringed_medians [i])/ringed_stds[i]\n"
     ]
    }
   ],
   "source": [
    "initialize_data('C')"
   ]
  },
  {
   "cell_type": "code",
   "execution_count": 6,
   "id": "01c1ab34",
   "metadata": {},
   "outputs": [
    {
     "name": "stderr",
     "output_type": "stream",
     "text": [
      "/tmp/ipykernel_125080/3412156628.py:4: DeprecationWarning: loadtxt(): Parsing an integer via a float is deprecated.  To avoid this warning, you can:\n",
      "    * make sure the original data is stored as integers.\n",
      "    * use the `converters=` keyword argument.  If you only use\n",
      "      NumPy 1.23 or later, `converters=float` will normally work.\n",
      "    * Use `np.loadtxt(...).astype(np.int64)` parsing the file as\n",
      "      floating point and then convert it.  (On all NumPy versions.)\n",
      "  (Deprecated NumPy 1.23)\n",
      "  ringed_masks = np.loadtxt('../../Datasets/Funky-rings/'+letra+'-ringed-transit-masks.txt', int).astype(bool)\n",
      "/tmp/ipykernel_125080/3412156628.py:12: RuntimeWarning: invalid value encountered in divide\n",
      "  ringed_curves_with_transits[i]=(ringed_curves_with_transits[i]-ringed_medians [i])/ringed_stds[i]\n"
     ]
    }
   ],
   "source": [
    "initialize_data('D')"
   ]
  },
  {
   "cell_type": "code",
   "execution_count": 7,
   "id": "d187e72c",
   "metadata": {},
   "outputs": [
    {
     "name": "stderr",
     "output_type": "stream",
     "text": [
      "/tmp/ipykernel_125080/3412156628.py:4: DeprecationWarning: loadtxt(): Parsing an integer via a float is deprecated.  To avoid this warning, you can:\n",
      "    * make sure the original data is stored as integers.\n",
      "    * use the `converters=` keyword argument.  If you only use\n",
      "      NumPy 1.23 or later, `converters=float` will normally work.\n",
      "    * Use `np.loadtxt(...).astype(np.int64)` parsing the file as\n",
      "      floating point and then convert it.  (On all NumPy versions.)\n",
      "  (Deprecated NumPy 1.23)\n",
      "  ringed_masks = np.loadtxt('../../Datasets/Funky-rings/'+letra+'-ringed-transit-masks.txt', int).astype(bool)\n",
      "/tmp/ipykernel_125080/3412156628.py:12: RuntimeWarning: invalid value encountered in divide\n",
      "  ringed_curves_with_transits[i]=(ringed_curves_with_transits[i]-ringed_medians [i])/ringed_stds[i]\n"
     ]
    }
   ],
   "source": [
    "initialize_data('E')"
   ]
  },
  {
   "cell_type": "code",
   "execution_count": 8,
   "id": "fa080db2",
   "metadata": {},
   "outputs": [
    {
     "name": "stderr",
     "output_type": "stream",
     "text": [
      "/tmp/ipykernel_125080/3412156628.py:4: DeprecationWarning: loadtxt(): Parsing an integer via a float is deprecated.  To avoid this warning, you can:\n",
      "    * make sure the original data is stored as integers.\n",
      "    * use the `converters=` keyword argument.  If you only use\n",
      "      NumPy 1.23 or later, `converters=float` will normally work.\n",
      "    * Use `np.loadtxt(...).astype(np.int64)` parsing the file as\n",
      "      floating point and then convert it.  (On all NumPy versions.)\n",
      "  (Deprecated NumPy 1.23)\n",
      "  ringed_masks = np.loadtxt('../../Datasets/Funky-rings/'+letra+'-ringed-transit-masks.txt', int).astype(bool)\n",
      "/tmp/ipykernel_125080/3412156628.py:12: RuntimeWarning: invalid value encountered in divide\n",
      "  ringed_curves_with_transits[i]=(ringed_curves_with_transits[i]-ringed_medians [i])/ringed_stds[i]\n"
     ]
    }
   ],
   "source": [
    "initialize_data('F')"
   ]
  },
  {
   "cell_type": "code",
   "execution_count": null,
   "id": "0f374d82",
   "metadata": {},
   "outputs": [],
   "source": []
  }
 ],
 "metadata": {
  "kernelspec": {
   "display_name": "Python 3 (ipykernel)",
   "language": "python",
   "name": "python3"
  },
  "language_info": {
   "codemirror_mode": {
    "name": "ipython",
    "version": 3
   },
   "file_extension": ".py",
   "mimetype": "text/x-python",
   "name": "python",
   "nbconvert_exporter": "python",
   "pygments_lexer": "ipython3",
   "version": "3.9.16"
  }
 },
 "nbformat": 4,
 "nbformat_minor": 5
}
